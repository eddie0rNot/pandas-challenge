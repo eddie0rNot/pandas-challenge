{
 "cells": [
  {
   "cell_type": "code",
   "execution_count": 4,
   "metadata": {},
   "outputs": [],
   "source": [
    "#Heroes Of Pymoli - Pandas/Jupyter Notebook homework\n",
    "#Eddie Buckalew\n",
    "#01/23/2021"
   ]
  },
  {
   "cell_type": "code",
   "execution_count": 6,
   "metadata": {},
   "outputs": [],
   "source": [
    "# Dependencies and Setup\n",
    "import pandas as pd\n",
    "\n",
    "# File to Load (Remember to Change These)\n",
    "file_to_load = \"Resources/purchase_data.csv\"\n",
    "\n",
    "# Read Purchasing File and store into Pandas data frame\n",
    "purchase_data = pd.read_csv(file_to_load)"
   ]
  },
  {
   "cell_type": "code",
   "execution_count": 10,
   "metadata": {},
   "outputs": [],
   "source": [
    "#player count\n",
    "#display total number of players"
   ]
  },
  {
   "cell_type": "code",
   "execution_count": 11,
   "metadata": {},
   "outputs": [],
   "source": [
    "#purchasing analysis (total)\n",
    "#run calculation to obtain number of unique items, arverage price, number of purchases, total revenue\n",
    "#create summary dataframe to hold results\n",
    "#optional: give displayed data cleaner formatting\n",
    "#display the summary data frame"
   ]
  },
  {
   "cell_type": "code",
   "execution_count": 12,
   "metadata": {},
   "outputs": [],
   "source": [
    "#gender demographics\n",
    "#percentage and count of male players\n",
    "#percentage and count of female players\n",
    "#percentage and count of other/non-disclosed"
   ]
  },
  {
   "cell_type": "code",
   "execution_count": 13,
   "metadata": {},
   "outputs": [],
   "source": [
    "#purchase analysis (gender)\n",
    "#run calculation to obtain purchase count, average purchase price, total purchase value, average total purchase per person\n",
    "#create a summary data frame to hold the results\n",
    "#optional: give displayed data cleaner formatting\n",
    "#display the summary data frame"
   ]
  },
  {
   "cell_type": "code",
   "execution_count": 14,
   "metadata": {},
   "outputs": [],
   "source": [
    "#age demographics\n",
    "#establish bins for ages\n",
    "#categorize the existing players using the age bins, use pd.cut()\n",
    "#calculate numbers and percentages by age group\n",
    "#create a summary data frame to hold the results\n",
    "#optional: round the percentage column to two decimal points\n",
    "#display age demographics table"
   ]
  },
  {
   "cell_type": "code",
   "execution_count": 15,
   "metadata": {},
   "outputs": [],
   "source": [
    "#purchase analysis (age)\n",
    "#bin the data frame by age\n",
    "#run calculation to obtain purchase count, average purchase price, total purchase value, average total purchase per person\n",
    "#create a summary data frame to hold the results\n",
    "#optional: give displayed data cleaner formatting\n",
    "#display the summary data frame"
   ]
  },
  {
   "cell_type": "code",
   "execution_count": 16,
   "metadata": {},
   "outputs": [],
   "source": [
    "#top spenders\n",
    "#run calculation to obtain purchase count, average purchase price, total purchase value\n",
    "#create a summary data frame to hold the results\n",
    "#sort the total purchase value column in descending order\n",
    "#optional: give displayed data cleaner formatting\n",
    "#display a preview of the summary data frame"
   ]
  },
  {
   "cell_type": "code",
   "execution_count": 17,
   "metadata": {},
   "outputs": [],
   "source": [
    "#most popular items\n",
    "#retrieve item id, item name, and item price columns\n",
    "#group by item id and item name. perform calculations to obtain purchase count, average item price, and total purchase value\n",
    "#create a summary data frame to hold the results\n",
    "#sort the purchase count column in descending order\n",
    "#optional: give displayed data cleaner formatting\n",
    "#display a preview of the summary data frame"
   ]
  },
  {
   "cell_type": "code",
   "execution_count": 18,
   "metadata": {},
   "outputs": [],
   "source": [
    "#most profitable items\n",
    "#sort the above table by total purchase value in descending order\n",
    "#optional: give the displayed data cleaner formatting\n",
    "#display a preview of the data frame"
   ]
  },
  {
   "cell_type": "code",
   "execution_count": null,
   "metadata": {},
   "outputs": [],
   "source": []
  }
 ],
 "metadata": {
  "kernelspec": {
   "display_name": "Python 3",
   "language": "python",
   "name": "python3"
  },
  "language_info": {
   "codemirror_mode": {
    "name": "ipython",
    "version": 3
   },
   "file_extension": ".py",
   "mimetype": "text/x-python",
   "name": "python",
   "nbconvert_exporter": "python",
   "pygments_lexer": "ipython3",
   "version": "3.8.3"
  }
 },
 "nbformat": 4,
 "nbformat_minor": 4
}
